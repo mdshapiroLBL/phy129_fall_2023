{
 "cells": [
  {
   "cell_type": "markdown",
   "id": "3708279f",
   "metadata": {},
   "source": [
    "# Physics 129 Final Project #3"
   ]
  },
  {
   "cell_type": "markdown",
   "id": "cc6f9cec",
   "metadata": {},
   "source": [
    "## Studying the $Z$ boson and searching for new resonances  using dimuon data  from ATLAS"
   ]
  },
  {
   "cell_type": "markdown",
   "id": "b77210c4",
   "metadata": {},
   "source": [
    "### Learning objectives\n",
    "In this question you will:\n",
    "\n",
    "- Use data collected by ATLAS to study the Drell Mass  mass distribution\n",
    "- Estimate the size of the background from non-Drell Yan processes and remove that background\n",
    "- Search for a new high mass resonance that decays to diumons and in the absence of a discovery set a limit on it production cross section times decay branching ratio\n"
   ]
  },
  {
   "cell_type": "markdown",
   "id": "9a6b05ec",
   "metadata": {},
   "source": [
    "## Introduction\n",
    "\n",
    "ATLAS is a general-purpose detector at the Large Hadron Collider (LHC). It has a broad physics programme ranging from studying the Standard Model (including the Higgs boson) to searching for extra dimensions and particles that could make up dark matter. Although it has the same scientific goals as the CMS experiment, it uses different technical solutions and a different magnet-system design.\n",
    "\n",
    "ATLAS has the dimensions of a cylinder, 46m long, 25m in diameter, and sits in a cavern 100m below ground. The ATLAS detector weighs 7,000 tonnes, similar to the weight of the Eiffel Tower.\n",
    "\n",
    "The detector itself is a many-layered instrument designed to detect some of the tiniest yet most energetic particles ever created on earth. It consists of six different detecting subsystems wrapped concentrically in layers around the collision point to record the trajectory, momentum, and energy of particles, allowing them to be individually identified and measured. A huge magnet system bends the paths of the charged particles so that their momenta can be measured as precisely as possible.\n",
    "\n",
    "\n",
    "<div style=\"width: 500px;margin: auto\" align=\"center\">\n",
    "    <img src=\"ATLAS-Detector-reduce.png\">\n",
    "    Figure 1. The ATLAS Detector\n",
    "</div>\n",
    "\n",
    "\n"
   ]
  },
  {
   "cell_type": "markdown",
   "id": "9f9dc076",
   "metadata": {},
   "source": [
    "The goal of this project is to measure the cross-section for the process $pp\\rightarrow \\mu^+\\mu^- X$ (where $X$ is the sum over all possible additional particles in the final state).  The production of opposite sign dileptons through a photon or $Z$-boson propagator is often called Drell-Yan production.  In this project you will study dimuon data collected by the ATLAS detector at the LHC at 13 TeV during the year 2016 and corresponds to an integrated luminosity of 10 fb$^{-1}$"
   ]
  },
  {
   "cell_type": "markdown",
   "id": "5948e940",
   "metadata": {},
   "source": [
    "## The Dataset"
   ]
  },
  {
   "cell_type": "markdown",
   "id": "b461bd40",
   "metadata": {},
   "source": [
    "Events are required to have exactly two muons with opposite charge satisfying the conditions:\n",
    "\n",
    "- Pseudorapidity $|\\eta| < 2.5$ for each muon where $\\eta \\equiv - \\ln\\left (\\tan (\\theta/2) \\right )  $\n",
    "- Transverse momentum $p_T >25 $ GeV for each muon\n",
    "- Both muons satisfy quality cuts that ensure with high purity that they are indeed muons\n",
    "\n",
    "For each event the 3-momenta of the two muons is recorded. The following code will read in the data and print out the available variables in the dataset. The relevant variables are: $p1x$, $p1y$ and $p1z$ (the components of the momentum of the first muon) and $p2x$, $p2y$ and $p2z$ (the components of the momentum of the second muon) \n"
   ]
  },
  {
   "cell_type": "code",
   "execution_count": null,
   "id": "1b53ff1b",
   "metadata": {},
   "outputs": [],
   "source": [
    "import pandas as pd #pandas is a convenient tool to analyse the data; however you don't have to use it if you don't want to\n",
    "import numpy as np\n",
    "import matplotlib.pyplot as plt\n",
    "\n",
    "# Jupyter Notebook uses \"magic functions\". With this function it is possible to plot\n",
    "# the histogram straight to notebook.\n",
    "%matplotlib inline\n",
    "\n",
    "# Create a new DataFrame structure from the file\n",
    "# Because the size of the data sample is very large, it has been split into four input files.  \n",
    "# Run over the four samples separately and then combine the results.  If after analying each datafrrame\n",
    "# you don't delete the dataframe before reading the next one, you will run out of memory\n",
    "\n",
    "\n",
    "fileNames = ['dimuonDataA.csv.gz', 'dimuonDataB.csv.gz','dimuonDataC.csv.gz','dimuonDataD.csv.gz']\n",
    "for file in fileNames:\n",
    "    print(\"Reading \",file)\n",
    "    dataset = pd.read_csv(file,compression='gzip')\n",
    "    print(\"information provided for each event:\")\n",
    "    # This will list the available variables in the dataset\n",
    "    for element in dataset:\n",
    "        print(element)\n",
    "#    Put your analysis code here\n",
    "    del dataset"
   ]
  },
  {
   "cell_type": "markdown",
   "id": "d2d950fb",
   "metadata": {},
   "source": [
    "Calculate calculate the invariant mass of the pair of muons in each event. Plot this mass and identify the $Z$-boson.  While you will see a very large peak at the mass of the $Z$ boson, there will also be a long tail extending to high dimuon invariant mass.  Display your plot using a log scale for the y-axis so that this tail is visable.    "
   ]
  },
  {
   "cell_type": "code",
   "execution_count": null,
   "id": "1eab74a1",
   "metadata": {},
   "outputs": [],
   "source": [
    "# put answer here"
   ]
  },
  {
   "cell_type": "markdown",
   "id": "5ce57c8f",
   "metadata": {},
   "source": [
    "## The Simulated Background Datasets\n",
    "\n",
    "Not all dimuon events come from the Drell Yan process.  Other sources of dimuons, which are defined as background to this analysis are:\n",
    "\n",
    "- Top quark pair production where both the top quark and the top antiquark decay to a muon: $pp \\rightarrow t\\overline t \\rightarrow \\mu^+ \\nu_\\mu b \\mu^- \\overline \\nu_\\mu \\overline b$ \n",
    "- $Z\\rightarrow \\tau^+ \\tau^-$ where both $\\tau$ leptons decay to muons\n",
    "- Dibosons: $pp \\rightarrow VV +X $ where  $V$ is either $W$ or $Z$ boson\n",
    "\n",
    "The number of background events we expect in the data can be calculated using simulated data for the above 3 processes.   In addition to the 6 variables available for the data,simulated data contains a seventh field: MCweight.  When making histograms with the simulated data, each event must be included with its appropriate weight (for example, by using the {\\it weights=} option in pyplot).  Using these weights, histograms created from these simulated datasets will have integrals that correspond to the predicted number of reconstructed dimuon background events for an integrated luminosity of 10 fb$^{-1}$ \n",
    "\n",
    "The following code provides access to the simulated background:\n"
   ]
  },
  {
   "cell_type": "code",
   "execution_count": 2,
   "id": "59dcc953",
   "metadata": {},
   "outputs": [
    {
     "name": "stdout",
     "output_type": "stream",
     "text": [
      "number of entries in   ttbar.csv.gz  is  1404607 and number of predicted events is 121378.80168732772\n",
      "number of entries in   ztautau.csv.gz  is  28341 and number of predicted events is 20048.751728874893\n",
      "number of entries in   dibosonA.csv.gz  is  1795913 and number of predicted events is 3820.1706833732947\n",
      "number of entries in   dibosonB.csv.gz  is  1880863 and number of predicted events is 4176.662551351069\n",
      "number of entries in   dibosonC.csv.gz  is  1752850 and number of predicted events is 2794.109441193087\n",
      "number of entries in   dibosonD.csv.gz  is  1982077 and number of predicted events is 3747.3423081671194\n"
     ]
    }
   ],
   "source": [
    "import pandas as pd #pandas is a convenient tool to analyse the data; however you don't have to use it if you don't want to\n",
    "import numpy as np\n",
    "backgroundFiles = ['ttbar.csv.gz','ztautau.csv.gz','dibosonA.csv.gz','dibosonB.csv.gz','dibosonC.csv.gz','dibosonD.csv.gz' ]\n",
    "\n",
    "for bckgndFile in backgroundFiles:\n",
    "    backgnd = pd.read_csv(bckgndFile,compression='gzip')\n",
    "    print('number of entries in  ',bckgndFile,' is ',len(backgnd), 'and number of predicted events is',sum(backgnd.MCweight))\n",
    "#    Put your analysis here\n",
    "    del backgnd\n"
   ]
  },
  {
   "cell_type": "markdown",
   "id": "8cf38b73",
   "metadata": {},
   "source": [
    "Create a histogram showing the background-subtracted invariant mass distribution"
   ]
  },
  {
   "cell_type": "code",
   "execution_count": null,
   "id": "3c5a3af7",
   "metadata": {},
   "outputs": [],
   "source": [
    "# put code here"
   ]
  },
  {
   "cell_type": "markdown",
   "id": "40ef24d3",
   "metadata": {},
   "source": [
    "ATLAS published a measurement of the $Z$ production cross section using an early data corresponding to an integrated luminosity of 81 pb$^{-1}$ (see https://arxiv.org/pdf/1603.09222.pdf) In this paper, the $Z$ cross section id defined to be the background-subtracted signal with a dimuon invariant mass $66 < m_{\\mu\\mu} < 116$ GeV.  Using this mass window, what fraction of the events are in the $Z$ peak?  What is the highest invariant mass observed in our dataset?"
   ]
  },
  {
   "cell_type": "code",
   "execution_count": null,
   "id": "af5d2bf0",
   "metadata": {},
   "outputs": [],
   "source": [
    "# Put answer here"
   ]
  },
  {
   "cell_type": "markdown",
   "id": "967fc355",
   "metadata": {},
   "source": [
    "Your previous histograms showed the number of events per bin.  You can change your y-axis to units of differential  cross section $d\\sigma^{fid}/d M_{\\mu\\mu}$ using the measured cross section times branching ratio in Table 3 of https://arxiv.org/pdf/1603.09222.pdf\n",
    "\n",
    "$$\n",
    "\\sigma^{fid} (Z\\rightarrow \\mu^+\\mu^-) = 0.779 \\pm 0.017\\;{\\rm nb}\n",
    "$$\n",
    "\n",
    "where this cross section corresponds to the case where both muons satisfy $p_T>25 $ GeV and $|\\eta| < 2.5$ and where the dimuon mass is between 66 GeV and 116 GeV."
   ]
  },
  {
   "cell_type": "code",
   "execution_count": null,
   "id": "869f0f5e",
   "metadata": {},
   "outputs": [],
   "source": [
    "# put answer here"
   ]
  },
  {
   "cell_type": "markdown",
   "id": "830ba45d",
   "metadata": {},
   "source": [
    "## Searching for Physics beyond the Standard Model\n",
    "\n",
    "Many extensions to the Standard Model predict the exisitence of new, heavy resonances that can decay to dimuons.  ATLAS performed a search for such resonances in https://arxiv.org/pdf/1903.06248.pdf  Perform a similar analysis with these data.  Allow the mass of the resonance to vary, taking the minimum possible mass to be $M=250$ GeV.  Your result will be a table of plot that shows 95\\% CL upper bound on the product of the cross section of the resonance multipled by the branching ratio for the resonance to decay to dimuons for a range of masses for the hypothetical new resonance.\n",
    "\n",
    "When calculating your upper bound, you must use the fact that for high dimuon invariant mass, the observed signal will have a resolution determined by the performance of the ATLAS detector rather than by the natural width of the resonance.  The following figure shows the predicted resolution on the invariance mass as a function of mass:\n",
    "\n",
    "<div style=\"width: 500px;margin: auto\" align=\"center\">\n",
    "    <img src=\"dimuonMassResolution.png\">\n",
    "    Figure 2. The dilepton mass resolution as a function of invariant mass for the ATLAS Detector\n",
    "</div>\n",
    "\n",
    "It is interesting to compare your measured bound on the cross section times branching to the predicted value for various beyond the Standard Model theories.  The following plot shows these theoretical curves (together with 2017 ATLAS result based on 36 fb^{-1}$ of data:\n",
    "<div style=\"width: 500px;margin: auto\" align=\"center\">\n",
    "    <img src=\"ZprimeCross.png\">\n",
    "    Figure 3. The predicted cross section times branching ratio for several theoretical models together with the ATLAS limit from JHEP 10 (2017) 182\n",
    "</div>\n",
    "\n",
    "###Note:### Because the ATLAS paper used a data sample corresponding to an integrated luminosity of 130 fb$^{-1}$ while you are analyzing a sample with integrated luminosity of 10 fb$^{-1}$, and because ATLAS combined the dimuon and dielectron channels, the limits presented in that paper will be better than yours.  You, however, will obtain a more stringent upper bound than any paper published before 2016.\n"
   ]
  },
  {
   "cell_type": "code",
   "execution_count": null,
   "id": "317398cb",
   "metadata": {},
   "outputs": [],
   "source": [
    "# write answer here"
   ]
  },
  {
   "cell_type": "markdown",
   "id": "8e22c1ec",
   "metadata": {},
   "source": [
    "## Possible extensions\n",
    "\n",
    "You are free to extend this analysis in any direction you wish.  Here are some ideas about how you could explore the data further, but you're welcome to take your project in a different direction\n",
    "\n",
    "- Explore how well these data reproduce the value of the $Z$ mass given by the PDG\n",
    "- Look as an additional kinematic distribution for the $Z$ signal region\n",
    "- Explore how systematic uncertainties on the background subtraction affect the limit on resonance production (assume each background is known with 5\\% accuracy"
   ]
  }
 ],
 "metadata": {
  "kernelspec": {
   "display_name": "Python 3 (ipykernel)",
   "language": "python",
   "name": "python3"
  },
  "language_info": {
   "codemirror_mode": {
    "name": "ipython",
    "version": 3
   },
   "file_extension": ".py",
   "mimetype": "text/x-python",
   "name": "python",
   "nbconvert_exporter": "python",
   "pygments_lexer": "ipython3",
   "version": "3.9.15"
  }
 },
 "nbformat": 4,
 "nbformat_minor": 5
}
