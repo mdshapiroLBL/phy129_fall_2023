{
 "cells": [
  {
   "cell_type": "markdown",
   "metadata": {},
   "source": [
    "# Physics 129 Fall 2022 Problem Set 10: Due Sunday Nov 5"
   ]
  },
  {
   "cell_type": "markdown",
   "metadata": {},
   "source": [
    "## Question 1: Two Jet Production in pp collisions (30 points)"
   ]
  },
  {
   "cell_type": "markdown",
   "metadata": {},
   "source": [
    "### Learning objectives\n",
    "In this question you will:\n",
    "- Review the Feynman diagrams that represent possible vertices for the strong interactions\n",
    "- Apply this knowledge to the example of proton proton collisions"
   ]
  },
  {
   "cell_type": "markdown",
   "metadata": {},
   "source": [
    "On problem set 9, you looked at the process $pp\\rightarrow \\mu^+\\mu^- X$.  This process occurs via the electomagnetic interaction. The cross section (calculated to lowest order in perturbationtheory) is  proportional to $\\alpha^2$ (a factor of $e^2$ in the matrix element leads to a factor of  $e^4$ in the cross section).\n",
    "\n",
    "Consider instead the process $pp\\rightarrow jjX$ where $j$ is a jet coming from  the hadronization of a parton (a quark, an antiquark or a gluon).  This process occurs through the strong interaction and the lowest order term for the cross section is therefore proportional to $\\alpha_S^2$. Draw all the Feynman diagrams that contribute to this lowest order calculation.  You are not required to label the vertex or propagator factors but you should put arrows on the lines corresponding to incoming or outgoing fermions.\n",
    "\n",
    "In your Feynman diagrams show only the partons (quarks, anti-quarks or gluons) that are part of the scattering process and not the other partons in the proton).  Draw the diagrams with time going from right to left and take the upper incoming line to be the parton moving in the $+z$ direction and the bottom incoming line to be the parton moving in the $-z$ direction (in other words, consider $gq\\rightarrow gq$ to be a different diagram from $qg\\rightarrow qg$.  You should NOT draw separate diagrams for different quark species ($u$, $d$, $s$, etc) but just call all of them $q$.  You should consider both valence and sea partons, so that there are diagrams with intial state $\\overline q$ as well as those with intial state $q$. \n",
    "\n",
    "Hints:\n",
    "- The three vertices that describe the couplings of the strong interaction are shown on page 6 of the Lecture 19 notes. \n",
    "- In many cases, both for s-channel and t-channel diagrams are possible \n",
    "- There are quite a large number of such diagrams.  Start by listing all the possible initial state combinations of partons and then for each initial state then draw all the relevant scattering diagrams for that initial state."
   ]
  },
  {
   "cell_type": "markdown",
   "metadata": {},
   "source": [
    "put your answer here"
   ]
  },
  {
   "cell_type": "markdown",
   "metadata": {},
   "source": [
    "## Question 2: Sphericity and the Discovery of the Gluon (40 points)"
   ]
  },
  {
   "cell_type": "markdown",
   "metadata": {},
   "source": [
    "### Learning objectives\n",
    "In this question you will:\n",
    "\n",
    "- learn how to calculate the sphericity tensor and understand how to interpret its eigenvalues\n",
    "- reproduce (using simulated data) the analysis performed by Tasso to discover the gluon\n",
    "- develop a simple event display as an aid to visualizing what two jet and three jet events look like in $e^+e^-$ annihilation events"
   ]
  },
  {
   "cell_type": "markdown",
   "metadata": {
    "flags": [
     "problems",
     "solutions"
    ]
   },
   "source": [
    "\n",
    "The first experimental evidence for the existence of the\n",
    "gluon came from the analysis of data collected at the Petra\n",
    "accelerator at DESY.  Several different analysis strategies\n",
    "were used by the four collaborations (see [arxiv:1012.2288](https://arxiv.org/pdf/1012.2288.pdf) for a review).  One such analysis, performed by the\n",
    "Tasso group, was based on studies of the sphericity tensor:\n",
    "$$\n",
    "S_{\\alpha\\beta} = \\frac{\\sum_i p_{i\\alpha} p_{i\\beta}}{\\sum_i\n",
    "  \\vec p_i^2}\n",
    "$$\n",
    "where the sum is over all charged particles in the event\n",
    "(Tasso did not have good enough calorimetry to include neutrals\n",
    "in the analysis) and the $\\alpha$ and $\\beta$ indices run\n",
    "from 1 to 3, representing the $x$, $y$ and $z$ components\n",
    "of the momentum vector.  For each event,\n",
    "the Sphericity tensor can be\n",
    "diagonalized to obtain the principle axes $\\hat n_1$ through\n",
    "$\\hat n_3$ and eigenvalues $Q_1$ through $Q_3$.\n",
    "With the definition of $S$ above, $Q_1+Q_2+Q_3=1$, so we only\n",
    "need two eigenvalues to specify each event. \n",
    "If the\n",
    "eigenvalues are ordered so that $Q_1<Q_2<Q_3$ then the\n",
    "sphericity is defined to be\n",
    "$$\n",
    "S \\equiv \\frac{3}{2}\\left (1 - Q_3\\right )  = \\frac{3}{2} \\left (Q_1+Q_2 \\right )\n",
    "$$\n",
    "and the aplanarity is defined to be\n",
    "$$\n",
    "A \\equiv \\frac{3}{2} Q_1 \n",
    "$$\n",
    "Here $0<S<1$ and $0<A < 0.5$.\n",
    "\n",
    "** A note on nomenclature:The $Q_1$ through $Q_3$ described here are the same as the $\\lambda_1$ throught $\\lambda_3$ discussed in Lecture 19 except that they are ordered so that $Q_1$ is the smallest while the class definition has $\\lambda_3$ as the smallest.  The convention used in this problem matches the article cited here while the convention used in class is consistent with most modern textbooks)\n",
    "\n",
    "The form of the sphericity tensor is the same\n",
    "as that of the moment of interia tensor (where the object's\n",
    "position is replaced by its momentum).  We can therefore\n",
    "use our intuition from classical mechanics to interpret this\n",
    "tensor.  Long, thin rods have one large eigenvalue and two\n",
    "small ones of rougly equal size, while a sphere has three\n",
    "eigenvalues of equal size.  If we interpret the the\n",
    "process $e^+e^-\\rightarrow hadrons$ at parton level as\n",
    "$e^+e^-\\rightarrow q\\overline q$ we would expect most of\n",
    "the momentum to flow along the original $q\\overline q$ axis\n",
    "with the momentum transverse to this direction limited by to\n",
    "a scale set by $\\Lambda_{QCD}$.  Thus, such events have $S$\n",
    "close to zero.  The axis $n_3$ is a good estimate of\n",
    "the initial direction of the back-to-back $q$ and $\\overline q$.\n",
    "If instead,  a single hard gluon is radiated so that\n",
    "the hard scattering process is $e^+e^-\\rightarrow q\\overline qg$.\n",
    "The events would appear planar with only a small component of \n",
    "momentum outside the plane.\n",
    "Here is what Tasso observed:\n",
    "<div style=\"width: 500px;margin: auto\" align=\"center\">\n",
    "    <img src=\"tassoSphericityAplanarity.png\">\n",
    "    Distribution of the sphericity and aplanarity\n",
    "    of $e^+e^-\\rightarrow hadron$ events measured by\n",
    "  the TASSO collaboration in R.\n",
    "    Brandelik et al., <i>Evidence for Planar Events in e<sup>+</sup>e<sup>−</sup> Annihilation at High Energies</i>, Phys. Lett. B 86, 243 (1979).\n",
    "</div>\n",
    "\n",
    "You will now reproduce their analysis using simulated\n",
    "data created with the Pythia8 Monte Carlo generator.  The file\n",
    "`Pythia8e+e-Toqqbar36GeV.dat` contains the charged particle information\n",
    "for 10000 events.  The format of the file is specified\n",
    "in the metadata comments at the beginning of the file."
   ]
  },
  {
   "cell_type": "markdown",
   "metadata": {},
   "source": [
    "### 2a. "
   ]
  },
  {
   "cell_type": "markdown",
   "metadata": {
    "flags": [
     "problems",
     "solutions"
    ]
   },
   "source": [
    "For each event in the file, calculate the\n",
    "  sphericity tensor and find its eigenvalues.  Plot the\n",
    "  data using the same $x$ and $y$ axes as the Tasso plot\n",
    "  above."
   ]
  },
  {
   "cell_type": "code",
   "execution_count": 1,
   "metadata": {
    "flags": [
     "problems",
     "solutions"
    ]
   },
   "outputs": [],
   "source": [
    "import numpy as np\n",
    "from matplotlib import pyplot as plt\n",
    "\n",
    "# Read in the data\n",
    "with open(\"Pythia8e+e-Toqqbar36GeV.dat\",\"r\") as file:\n",
    "    lines = file.readlines()\n",
    "\n",
    "# This is the header\n",
    "event_header = lines[5]\n",
    "\n",
    "def momenta_from_events(lines):\n",
    "    \"\"\"Take provided event info and extract momemtum vectors\n",
    "    Parameters\n",
    "    ==========\n",
    "    lines : numpy array\n",
    "      2 dimensional array of event info\n",
    "    Returns\n",
    "    =======\n",
    "    mom : numpy array\n",
    "      n by 3 array of momentum vectors, one for each event given\n",
    "    \"\"\"\n",
    "    n = len(lines)\n",
    "    mom = np.zeros((n,3))\n",
    "    for i in range(n):\n",
    "        mom[i] = lines[i].split(\",\")[1:4]\n",
    "    return mom\n",
    "        \n",
    "def sphericity_tensor_from_mom(mom):\n",
    "    \"\"\"Calculate the sphericity of a momentum vector\n",
    "    \n",
    "    Parameters\n",
    "    ==========\n",
    "    mom : numpy array\n",
    "      3 element array representing a particle momentum\n",
    "      \n",
    "    Returns\n",
    "    =======\n",
    "    sphericity : numpy array\n",
    "      3 by 3 array of sphericity tensor values\n",
    "    \"\"\"\n",
    "    '''Your code here'''\n",
    "\n",
    "\n",
    "def find_eigenvalues(sphericity_tensor):\n",
    "    \"\"\"Calculate the eigenvalues of the sphericity tensor\n",
    "    \n",
    "    Parameters\n",
    "    ==========\n",
    "    sphericity_tensor : numpy array\n",
    "      3 by 3 array representing a sphericity tensor\n",
    "      \n",
    "    Returns\n",
    "    =======\n",
    "    eigenvalues : numpy array\n",
    "      sphericity tensor eigenvalues\n",
    "    \"\"\"\n",
    "    '''Your code here'''\n",
    "\n",
    "def compute_sphericity(eigenvalues):\n",
    "    \"\"\"Calculate the sphericity of the event given the sphericity tensor eigenvalues\n",
    "    \n",
    "    Parameters\n",
    "    ==========\n",
    "    eigenvalues : numpy array\n",
    "      3 element array representing sphericity tensor eigenvalues\n",
    "      \n",
    "    Returns\n",
    "    =======\n",
    "    sphericity : float\n",
    "      sphericity of the event\n",
    "    \"\"\"\n",
    "    \n",
    "    '''Your code here'''\n",
    "\n",
    "\n",
    "momenta = []\n",
    "\n",
    "# Start at the 6th element of the lines array, previous ones are header info\n",
    "i = 6\n",
    "\n",
    "while True:\n",
    "    try:\n",
    "        j = i + lines[i:].index(event_header) - 1\n",
    "    except ValueError:\n",
    "        break\n",
    "    momenta.append(momenta_from_events(lines[i:j]))\n",
    "    i = j + 2\n",
    "\n",
    "# momenta is an np array where the ith element of the array is an np array of momenta of charged particles in \n",
    "# for the ith event\n",
    "# For example, if you uncomment the line below you will print the momenta of all the charged particles for\n",
    "#  the 10th event\n",
    "\n",
    "#print(momenta[10])\n",
    "\n"
   ]
  },
  {
   "cell_type": "code",
   "execution_count": 2,
   "metadata": {},
   "outputs": [],
   "source": [
    "#Write your answer here"
   ]
  },
  {
   "cell_type": "markdown",
   "metadata": {},
   "source": [
    "### 2b. "
   ]
  },
  {
   "cell_type": "markdown",
   "metadata": {
    "flags": [
     "problems",
     "solutions"
    ]
   },
   "source": [
    "As discussed above, the momentum along the $\\hat n_3$\n",
    "  axis should be larger than in the other directions.\n",
    "  The momentum along the $\\hat n_2$\n",
    "  direction should be small for 2-jet events, with a tail\n",
    "  extending to larger values of momentum for\n",
    "  3-jet events where a gluon is radiated.  The momentum\n",
    "  along the $\\hat n_1$ direction should be small unless more\n",
    "  than one gluon is radiated.  Since $\\alpha_S\\approx 0.12$ at Petra\n",
    "  energies, the probability of\n",
    "  multiple hard gluon radiation is small.  Make\n",
    "  histograms of the components of momentum along each\n",
    "  of the three principle axes for the events you have analyzed.\n",
    "  What do these plots show?"
   ]
  },
  {
   "cell_type": "code",
   "execution_count": 3,
   "metadata": {},
   "outputs": [],
   "source": [
    "#Write your answer here"
   ]
  },
  {
   "cell_type": "markdown",
   "metadata": {},
   "source": [
    "### 2c. "
   ]
  },
  {
   "cell_type": "markdown",
   "metadata": {
    "flags": [
     "problems",
     "solutions"
    ]
   },
   "source": [
    "When physicists observe a new phenomenon, they often\n",
    "  like to display individual events to make sure they \"look\"\n",
    "  they way we expect.  We can display a single event by\n",
    "  making a 3D plot with a vector representing the momentum\n",
    "  of each charged particle.  Make such four such displays,\n",
    "  two for\n",
    "  events with $S<0.05$ and two for events with $S>0.3$.  Do\n",
    "  they look the way you expect them to?"
   ]
  },
  {
   "cell_type": "code",
   "execution_count": 4,
   "metadata": {
    "flags": [
     "problems",
     "solutions"
    ]
   },
   "outputs": [],
   "source": [
    "from mpl_toolkits.mplot3d import Axes3D\n",
    "\n",
    "# Your code here"
   ]
  },
  {
   "cell_type": "code",
   "execution_count": 5,
   "metadata": {},
   "outputs": [],
   "source": [
    "#Write your answer here"
   ]
  }
 ],
 "metadata": {
  "kernelspec": {
   "display_name": "Python 3 (ipykernel)",
   "language": "python",
   "name": "python3"
  },
  "language_info": {
   "codemirror_mode": {
    "name": "ipython",
    "version": 3
   },
   "file_extension": ".py",
   "mimetype": "text/x-python",
   "name": "python",
   "nbconvert_exporter": "python",
   "pygments_lexer": "ipython3",
   "version": "3.9.15"
  }
 },
 "nbformat": 4,
 "nbformat_minor": 4
}
